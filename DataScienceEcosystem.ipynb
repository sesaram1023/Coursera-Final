{
 "cells": [
  {
   "cell_type": "markdown",
   "id": "52f03d56-dddd-4844-b99c-ecd2173d2c4c",
   "metadata": {},
   "source": [
    "# Data Science Tools and Ecosystem"
   ]
  },
  {
   "cell_type": "markdown",
   "id": "886b115b-b70c-43fa-a7fd-c8e1b8c92edb",
   "metadata": {},
   "source": [
    "In this notebook, Data Science Tools and Ecosystem are summarized."
   ]
  },
  {
   "cell_type": "markdown",
   "id": "9b994712-817a-4f3b-a67f-de01217c00ae",
   "metadata": {},
   "source": [
    "Some of the popular languages that Data Scientists use are:\n",
    "1. Python\n",
    "2. R\n",
    "3. SQL"
   ]
  },
  {
   "cell_type": "markdown",
   "id": "56b4724c-d231-4168-99d4-bd570b72a01a",
   "metadata": {},
   "source": [
    "Some of the commonly used libraries used by Data Scientists include:\n",
    "1. Numpy\n",
    "2. Pandas\n",
    "3. Scikit learn"
   ]
  },
  {
   "cell_type": "markdown",
   "id": "3a79b7ff-f0f0-4d3f-98a8-7506f80ff423",
   "metadata": {},
   "source": [
    "|Data Science Tools|\n",
    "|------------------|\n",
    "|Jupyter Notebook  |\n",
    "|R Studio          |\n",
    "|IBM Watson Studio |"
   ]
  },
  {
   "cell_type": "markdown",
   "id": "87d1f98d-c64a-427d-8176-6d218d367600",
   "metadata": {},
   "source": [
    "### Below are a few examples of evaluating arithmetic expressions in Python"
   ]
  },
  {
   "cell_type": "code",
   "execution_count": 1,
   "id": "953a13f8-055e-4ab5-8b48-5f83210e72ae",
   "metadata": {},
   "outputs": [
    {
     "data": {
      "text/plain": [
       "17"
      ]
     },
     "execution_count": 1,
     "metadata": {},
     "output_type": "execute_result"
    }
   ],
   "source": [
    "#This a simple arithmetic expression to mutiply then add integers\n",
    "(3*4)+5"
   ]
  },
  {
   "cell_type": "code",
   "execution_count": 2,
   "id": "5864fe45-7cfb-48e2-b66e-7255b8dbcca6",
   "metadata": {},
   "outputs": [
    {
     "data": {
      "text/plain": [
       "3.3333333333333335"
      ]
     },
     "execution_count": 2,
     "metadata": {},
     "output_type": "execute_result"
    }
   ],
   "source": [
    "#This will convert 200 minutes to hours by diving by 60\n",
    "200/60"
   ]
  },
  {
   "cell_type": "markdown",
   "id": "a55a9456-2990-4e1e-bb6c-87955b48d4b0",
   "metadata": {},
   "source": [
    "**Objectives:**\n",
    "*The popular languages that Data Scientists use\n",
    "*The commonly used libraries used by Data Scientists\n",
    "*The commonly used libraries used by Data Scientists"
   ]
  },
  {
   "cell_type": "markdown",
   "id": "29f1dfba-7e03-4812-99f3-d853c9f58f81",
   "metadata": {},
   "source": [
    "## Author\n",
    "Jesung Moon"
   ]
  },
  {
   "cell_type": "code",
   "execution_count": null,
   "id": "1eb83973-fb84-4d21-9e5d-e775a11b8d69",
   "metadata": {},
   "outputs": [],
   "source": []
  }
 ],
 "metadata": {
  "kernelspec": {
   "display_name": "Python 3 (ipykernel)",
   "language": "python",
   "name": "python3"
  },
  "language_info": {
   "codemirror_mode": {
    "name": "ipython",
    "version": 3
   },
   "file_extension": ".py",
   "mimetype": "text/x-python",
   "name": "python",
   "nbconvert_exporter": "python",
   "pygments_lexer": "ipython3",
   "version": "3.12.7"
  }
 },
 "nbformat": 4,
 "nbformat_minor": 5
}
